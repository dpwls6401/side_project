{
  "nbformat": 4,
  "nbformat_minor": 0,
  "metadata": {
    "colab": {
      "name": "CNN구현_2조",
      "provenance": [],
      "collapsed_sections": []
    },
    "kernelspec": {
      "name": "python3",
      "display_name": "Python 3"
    },
    "language_info": {
      "name": "python"
    },
    "accelerator": "GPU"
  },
  "cells": [
    {
      "cell_type": "markdown",
      "source": [
        "패키지 설치"
      ],
      "metadata": {
        "id": "QnB_z4fNSLZr"
      }
    },
    {
      "cell_type": "code",
      "source": [
        "!curl -s https://raw.githubusercontent.com/teddylee777/machine-learning/master/99-Misc/01-Colab/mecab-colab.sh | bash"
      ],
      "metadata": {
        "id": "Aa33AIuOCr0l"
      },
      "execution_count": null,
      "outputs": []
    },
    {
      "cell_type": "code",
      "source": [
        "from google.colab import drive\n",
        "drive.mount('/content/drive')"
      ],
      "metadata": {
        "colab": {
          "base_uri": "https://localhost:8080/"
        },
        "id": "vj68u-0PSS35",
        "outputId": "1c3140b2-d918-4374-d37f-af330ddb1a7c"
      },
      "execution_count": 2,
      "outputs": [
        {
          "output_type": "stream",
          "name": "stdout",
          "text": [
            "Mounted at /content/drive\n"
          ]
        }
      ]
    },
    {
      "cell_type": "code",
      "source": [
        "!pip install fasttext"
      ],
      "metadata": {
        "id": "IBPv5ChdPSwz"
      },
      "execution_count": null,
      "outputs": []
    },
    {
      "cell_type": "code",
      "source": [
        "# pre-trained data: fasttext 가져오기\n",
        "import fasttext\n",
        "import fasttext.util"
      ],
      "metadata": {
        "id": "XDyWQqp5tJwO"
      },
      "execution_count": 4,
      "outputs": []
    },
    {
      "cell_type": "code",
      "source": [
        "fasttext.util.download_model('ko', if_exists='ignore') # 존재하면 무시\n",
        "ft = fasttext.load_model('cc.ko.300.bin')"
      ],
      "metadata": {
        "colab": {
          "base_uri": "https://localhost:8080/"
        },
        "id": "fabAlzdZA5X1",
        "outputId": "9530077c-f7be-4a7b-f62c-e509675b446c"
      },
      "execution_count": 5,
      "outputs": [
        {
          "output_type": "stream",
          "name": "stdout",
          "text": [
            "Downloading https://dl.fbaipublicfiles.com/fasttext/vectors-crawl/cc.ko.300.bin.gz\n",
            "\n"
          ]
        },
        {
          "output_type": "stream",
          "name": "stderr",
          "text": [
            "Warning : `load_model` does not return WordVectorModel or SupervisedModel any more, but a `FastText` object which is very similar.\n"
          ]
        }
      ]
    },
    {
      "cell_type": "code",
      "source": [
        "# fast_words - fasttext 단어들, 에러 replace\n",
        "fast_words = ft.get_words(on_unicode_error='replace')"
      ],
      "metadata": {
        "id": "BPTyIRwDF71X"
      },
      "execution_count": 6,
      "outputs": []
    },
    {
      "cell_type": "code",
      "source": [
        "len(fast_words)"
      ],
      "metadata": {
        "colab": {
          "base_uri": "https://localhost:8080/"
        },
        "id": "tYg--D6PONBz",
        "outputId": "d55860f9-0eb4-4321-973f-6ff2f28825d6"
      },
      "execution_count": 7,
      "outputs": [
        {
          "output_type": "execute_result",
          "data": {
            "text/plain": [
              "2000000"
            ]
          },
          "metadata": {},
          "execution_count": 7
        }
      ]
    },
    {
      "cell_type": "markdown",
      "source": [
        "\b모듈 import"
      ],
      "metadata": {
        "id": "baIrWpYDSfEU"
      }
    },
    {
      "cell_type": "code",
      "source": [
        "import numpy as np\n",
        "import pandas as pd\n",
        "import matplotlib.pyplot as plt\n",
        "import seaborn as sns\n",
        "import re, os\n",
        "import json\n",
        "%matplotlib inline\n",
        "\n",
        "import keras\n",
        "import tensorflow as tf\n",
        "from tensorflow.keras.preprocessing.text import Tokenizer\n",
        "from tensorflow.keras.preprocessing.sequence import pad_sequences\n",
        "from keras.models import Sequential\n",
        "from keras.layers import Embedding, Conv1D, MaxPooling1D, GlobalMaxPooling1D, Dense, Dropout, Flatten, Activation\n",
        "from keras.callbacks import EarlyStopping, ModelCheckpoint\n",
        "from tensorflow.keras.initializers import Constant\n",
        "from keras import optimizers\n",
        "from keras import regularizers\n",
        "\n",
        "from tqdm import tqdm\n",
        "from collections import Counter\n",
        "\n",
        "from konlpy.tag import Mecab"
      ],
      "metadata": {
        "id": "HtberEK_cvnX"
      },
      "execution_count": 8,
      "outputs": []
    },
    {
      "cell_type": "markdown",
      "source": [
        "데이터 불러오기"
      ],
      "metadata": {
        "id": "swqUCp9VSjDB"
      }
    },
    {
      "cell_type": "code",
      "source": [
        "# 데이터 호출 \n",
        "train_data = pd.read_table('/content/drive/MyDrive/DACON/ratings_train.txt', encoding='utf-8')\n",
        "test_data = pd.read_table('/content/drive/MyDrive/DACON/ratings_test.txt', encoding='utf-8')\n",
        "\n",
        "train_data.head()"
      ],
      "metadata": {
        "colab": {
          "base_uri": "https://localhost:8080/",
          "height": 267
        },
        "id": "bs-YA5nZE84i",
        "outputId": "969dcb92-6c0d-4bfa-8d2d-19dd53e18d83"
      },
      "execution_count": 9,
      "outputs": [
        {
          "output_type": "execute_result",
          "data": {
            "text/html": [
              "\n",
              "  <div id=\"df-fe581c4d-51f1-495a-8b9d-001a4defd939\">\n",
              "    <div class=\"colab-df-container\">\n",
              "      <div>\n",
              "<style scoped>\n",
              "    .dataframe tbody tr th:only-of-type {\n",
              "        vertical-align: middle;\n",
              "    }\n",
              "\n",
              "    .dataframe tbody tr th {\n",
              "        vertical-align: top;\n",
              "    }\n",
              "\n",
              "    .dataframe thead th {\n",
              "        text-align: right;\n",
              "    }\n",
              "</style>\n",
              "<table border=\"1\" class=\"dataframe\">\n",
              "  <thead>\n",
              "    <tr style=\"text-align: right;\">\n",
              "      <th></th>\n",
              "      <th>id</th>\n",
              "      <th>document</th>\n",
              "      <th>label</th>\n",
              "    </tr>\n",
              "  </thead>\n",
              "  <tbody>\n",
              "    <tr>\n",
              "      <th>0</th>\n",
              "      <td>9976970</td>\n",
              "      <td>아 더빙.. 진짜 짜증나네요 목소리</td>\n",
              "      <td>0</td>\n",
              "    </tr>\n",
              "    <tr>\n",
              "      <th>1</th>\n",
              "      <td>3819312</td>\n",
              "      <td>흠...포스터보고 초딩영화줄....오버연기조차 가볍지 않구나</td>\n",
              "      <td>1</td>\n",
              "    </tr>\n",
              "    <tr>\n",
              "      <th>2</th>\n",
              "      <td>10265843</td>\n",
              "      <td>너무재밓었다그래서보는것을추천한다</td>\n",
              "      <td>0</td>\n",
              "    </tr>\n",
              "    <tr>\n",
              "      <th>3</th>\n",
              "      <td>9045019</td>\n",
              "      <td>교도소 이야기구먼 ..솔직히 재미는 없다..평점 조정</td>\n",
              "      <td>0</td>\n",
              "    </tr>\n",
              "    <tr>\n",
              "      <th>4</th>\n",
              "      <td>6483659</td>\n",
              "      <td>사이몬페그의 익살스런 연기가 돋보였던 영화!스파이더맨에서 늙어보이기만 했던 커스틴 ...</td>\n",
              "      <td>1</td>\n",
              "    </tr>\n",
              "  </tbody>\n",
              "</table>\n",
              "</div>\n",
              "      <button class=\"colab-df-convert\" onclick=\"convertToInteractive('df-fe581c4d-51f1-495a-8b9d-001a4defd939')\"\n",
              "              title=\"Convert this dataframe to an interactive table.\"\n",
              "              style=\"display:none;\">\n",
              "        \n",
              "  <svg xmlns=\"http://www.w3.org/2000/svg\" height=\"24px\"viewBox=\"0 0 24 24\"\n",
              "       width=\"24px\">\n",
              "    <path d=\"M0 0h24v24H0V0z\" fill=\"none\"/>\n",
              "    <path d=\"M18.56 5.44l.94 2.06.94-2.06 2.06-.94-2.06-.94-.94-2.06-.94 2.06-2.06.94zm-11 1L8.5 8.5l.94-2.06 2.06-.94-2.06-.94L8.5 2.5l-.94 2.06-2.06.94zm10 10l.94 2.06.94-2.06 2.06-.94-2.06-.94-.94-2.06-.94 2.06-2.06.94z\"/><path d=\"M17.41 7.96l-1.37-1.37c-.4-.4-.92-.59-1.43-.59-.52 0-1.04.2-1.43.59L10.3 9.45l-7.72 7.72c-.78.78-.78 2.05 0 2.83L4 21.41c.39.39.9.59 1.41.59.51 0 1.02-.2 1.41-.59l7.78-7.78 2.81-2.81c.8-.78.8-2.07 0-2.86zM5.41 20L4 18.59l7.72-7.72 1.47 1.35L5.41 20z\"/>\n",
              "  </svg>\n",
              "      </button>\n",
              "      \n",
              "  <style>\n",
              "    .colab-df-container {\n",
              "      display:flex;\n",
              "      flex-wrap:wrap;\n",
              "      gap: 12px;\n",
              "    }\n",
              "\n",
              "    .colab-df-convert {\n",
              "      background-color: #E8F0FE;\n",
              "      border: none;\n",
              "      border-radius: 50%;\n",
              "      cursor: pointer;\n",
              "      display: none;\n",
              "      fill: #1967D2;\n",
              "      height: 32px;\n",
              "      padding: 0 0 0 0;\n",
              "      width: 32px;\n",
              "    }\n",
              "\n",
              "    .colab-df-convert:hover {\n",
              "      background-color: #E2EBFA;\n",
              "      box-shadow: 0px 1px 2px rgba(60, 64, 67, 0.3), 0px 1px 3px 1px rgba(60, 64, 67, 0.15);\n",
              "      fill: #174EA6;\n",
              "    }\n",
              "\n",
              "    [theme=dark] .colab-df-convert {\n",
              "      background-color: #3B4455;\n",
              "      fill: #D2E3FC;\n",
              "    }\n",
              "\n",
              "    [theme=dark] .colab-df-convert:hover {\n",
              "      background-color: #434B5C;\n",
              "      box-shadow: 0px 1px 3px 1px rgba(0, 0, 0, 0.15);\n",
              "      filter: drop-shadow(0px 1px 2px rgba(0, 0, 0, 0.3));\n",
              "      fill: #FFFFFF;\n",
              "    }\n",
              "  </style>\n",
              "\n",
              "      <script>\n",
              "        const buttonEl =\n",
              "          document.querySelector('#df-fe581c4d-51f1-495a-8b9d-001a4defd939 button.colab-df-convert');\n",
              "        buttonEl.style.display =\n",
              "          google.colab.kernel.accessAllowed ? 'block' : 'none';\n",
              "\n",
              "        async function convertToInteractive(key) {\n",
              "          const element = document.querySelector('#df-fe581c4d-51f1-495a-8b9d-001a4defd939');\n",
              "          const dataTable =\n",
              "            await google.colab.kernel.invokeFunction('convertToInteractive',\n",
              "                                                     [key], {});\n",
              "          if (!dataTable) return;\n",
              "\n",
              "          const docLinkHtml = 'Like what you see? Visit the ' +\n",
              "            '<a target=\"_blank\" href=https://colab.research.google.com/notebooks/data_table.ipynb>data table notebook</a>'\n",
              "            + ' to learn more about interactive tables.';\n",
              "          element.innerHTML = '';\n",
              "          dataTable['output_type'] = 'display_data';\n",
              "          await google.colab.output.renderOutput(dataTable, element);\n",
              "          const docLink = document.createElement('div');\n",
              "          docLink.innerHTML = docLinkHtml;\n",
              "          element.appendChild(docLink);\n",
              "        }\n",
              "      </script>\n",
              "    </div>\n",
              "  </div>\n",
              "  "
            ],
            "text/plain": [
              "         id                                           document  label\n",
              "0   9976970                                아 더빙.. 진짜 짜증나네요 목소리      0\n",
              "1   3819312                  흠...포스터보고 초딩영화줄....오버연기조차 가볍지 않구나      1\n",
              "2  10265843                                  너무재밓었다그래서보는것을추천한다      0\n",
              "3   9045019                      교도소 이야기구먼 ..솔직히 재미는 없다..평점 조정      0\n",
              "4   6483659  사이몬페그의 익살스런 연기가 돋보였던 영화!스파이더맨에서 늙어보이기만 했던 커스틴 ...      1"
            ]
          },
          "metadata": {},
          "execution_count": 9
        }
      ]
    },
    {
      "cell_type": "markdown",
      "source": [
        "EDA"
      ],
      "metadata": {
        "id": "PK114pGUTJb-"
      }
    },
    {
      "cell_type": "code",
      "source": [
        "# 데이터 shape 확인(리뷰 수)\n",
        "train_data.shape, test_data.shape"
      ],
      "metadata": {
        "colab": {
          "base_uri": "https://localhost:8080/"
        },
        "id": "GqXMLRr5e4Xw",
        "outputId": "9a7c927a-3068-417d-9fb5-71a1a59ace90"
      },
      "execution_count": 10,
      "outputs": [
        {
          "output_type": "execute_result",
          "data": {
            "text/plain": [
              "((150000, 3), (50000, 3))"
            ]
          },
          "metadata": {},
          "execution_count": 10
        }
      ]
    },
    {
      "cell_type": "code",
      "source": [
        "train_data.nunique()"
      ],
      "metadata": {
        "colab": {
          "base_uri": "https://localhost:8080/"
        },
        "id": "S3fu5t0VfRZ-",
        "outputId": "a8b79922-d627-417d-e398-6323bc648841"
      },
      "execution_count": 11,
      "outputs": [
        {
          "output_type": "execute_result",
          "data": {
            "text/plain": [
              "id          150000\n",
              "document    146182\n",
              "label            2\n",
              "dtype: int64"
            ]
          },
          "metadata": {},
          "execution_count": 11
        }
      ]
    },
    {
      "cell_type": "code",
      "source": [
        "# 각 review의 길이\n",
        "train_length = train_data['document'].astype(str).apply(len)\n",
        "train_length.head()"
      ],
      "metadata": {
        "colab": {
          "base_uri": "https://localhost:8080/"
        },
        "id": "aLMa0VpTgBy7",
        "outputId": "020003a2-9dbd-41a2-d775-d797d11e9dab"
      },
      "execution_count": 12,
      "outputs": [
        {
          "output_type": "execute_result",
          "data": {
            "text/plain": [
              "0    19\n",
              "1    33\n",
              "2    17\n",
              "3    29\n",
              "4    61\n",
              "Name: document, dtype: int64"
            ]
          },
          "metadata": {},
          "execution_count": 12
        }
      ]
    },
    {
      "cell_type": "code",
      "source": [
        "# maxlen 구하기 위함\n",
        "print(f'리뷰 길이 최댓값 : {np.max(train_length)}')\n",
        "print(f'리뷰 길이 최솟값 : {np.min(train_length)}')\n",
        "print(f'리뷰 길이 평균값 : {np.mean(train_length)}')\n",
        "print(f'리뷰 길이 표준편차 : {np.std(train_length)}')\n",
        "print(f'리뷰 길이 중간값 : {np.median(train_length)}')"
      ],
      "metadata": {
        "colab": {
          "base_uri": "https://localhost:8080/"
        },
        "id": "DLHc_YyPfeKb",
        "outputId": "03a47192-ee03-4dce-99d1-2a8ede06c54e"
      },
      "execution_count": 13,
      "outputs": [
        {
          "output_type": "stream",
          "name": "stdout",
          "text": [
            "리뷰 길이 최댓값 : 146\n",
            "리뷰 길이 최솟값 : 1\n",
            "리뷰 길이 평균값 : 35.203453333333336\n",
            "리뷰 길이 표준편차 : 29.531884578220215\n",
            "리뷰 길이 중간값 : 27.0\n"
          ]
        }
      ]
    },
    {
      "cell_type": "code",
      "source": [
        "# train data의 긍정 및 부정 비율\n",
        "fig, ax = plt.subplots(ncols=1)\n",
        "fig.set_size_inches(6,3)\n",
        "sns.countplot(train_data['label'])"
      ],
      "metadata": {
        "colab": {
          "base_uri": "https://localhost:8080/",
          "height": 297
        },
        "id": "6y21GnYhgo5G",
        "outputId": "1a731007-4071-4da6-a847-0521f108e0f6"
      },
      "execution_count": 14,
      "outputs": [
        {
          "output_type": "stream",
          "name": "stderr",
          "text": [
            "/usr/local/lib/python3.7/dist-packages/seaborn/_decorators.py:43: FutureWarning: Pass the following variable as a keyword arg: x. From version 0.12, the only valid positional argument will be `data`, and passing other arguments without an explicit keyword will result in an error or misinterpretation.\n",
            "  FutureWarning\n"
          ]
        },
        {
          "output_type": "execute_result",
          "data": {
            "text/plain": [
              "<matplotlib.axes._subplots.AxesSubplot at 0x7f145b85af10>"
            ]
          },
          "metadata": {},
          "execution_count": 14
        },
        {
          "output_type": "display_data",
          "data": {
            "image/png": "[encoded data removed]",
            "text/plain": [
              "<Figure size 432x216 with 1 Axes>"
            ]
          },
          "metadata": {
            "needs_background": "light"
          }
        }
      ]
    },
    {
      "cell_type": "code",
      "source": [
        "print(f\"긍정 리뷰 개수 : {train_data['label'].value_counts()[1]}\")\n",
        "print(f\"부정 리뷰 개수 : {train_data['label'].value_counts()[0]}\")"
      ],
      "metadata": {
        "colab": {
          "base_uri": "https://localhost:8080/"
        },
        "id": "fE9ycdzCg7G5",
        "outputId": "406cfb85-2023-4e8e-82e0-5ee570685eb7"
      },
      "execution_count": 15,
      "outputs": [
        {
          "output_type": "stream",
          "name": "stdout",
          "text": [
            "긍정 리뷰 개수 : 74827\n",
            "부정 리뷰 개수 : 75173\n"
          ]
        }
      ]
    },
    {
      "cell_type": "markdown",
      "source": [
        "# 전처리"
      ],
      "metadata": {
        "id": "TzLpGHgfTeI8"
      }
    },
    {
      "cell_type": "markdown",
      "source": [
        "1. 전처리 함수 정의"
      ],
      "metadata": {
        "id": "XwB5vFwbUB0X"
      }
    },
    {
      "cell_type": "code",
      "source": [
        "def preprocessing(review, mecab, remove_stopwords=False, stop_words=[]):\n",
        "    # 한글 자모 빼고 제거 - 논문에서 특수문자가 의미 가진다는 결과 있어서 특수문자는 빼지 않음\n",
        "    review_text = re.sub(\"[^가-힣ㄱ-ㅎㅏ-ㅣ\\\\s]\", \"\", review)\n",
        "    word_review = mecab.morphs(review_text)\n",
        "\n",
        "    # 불용어 제거\n",
        "    if remove_stopwords:\n",
        "        word_review = [token for token in word_review if not token in stop_words]\n",
        "    \n",
        "    return word_review"
      ],
      "metadata": {
        "id": "_xkbEIVxdNo9"
      },
      "execution_count": 16,
      "outputs": []
    },
    {
      "cell_type": "code",
      "source": [
        "# 결측치 먼저 제거하기 위함\n",
        "train_data['document'].str.replace(\"[^가-힣ㄱ-ㅎㅏ-ㅣ\\\\s]\", \"\")\n",
        "train_data['document'][:5]"
      ],
      "metadata": {
        "colab": {
          "base_uri": "https://localhost:8080/"
        },
        "id": "d0tnE4e_DEpU",
        "outputId": "82e77dca-c1cd-4ab4-eeba-f71f92e27785"
      },
      "execution_count": 17,
      "outputs": [
        {
          "output_type": "stream",
          "name": "stderr",
          "text": [
            "/usr/local/lib/python3.7/dist-packages/ipykernel_launcher.py:1: FutureWarning: The default value of regex will change from True to False in a future version.\n",
            "  \"\"\"Entry point for launching an IPython kernel.\n"
          ]
        },
        {
          "output_type": "execute_result",
          "data": {
            "text/plain": [
              "0                                  아 더빙.. 진짜 짜증나네요 목소리\n",
              "1                    흠...포스터보고 초딩영화줄....오버연기조차 가볍지 않구나\n",
              "2                                    너무재밓었다그래서보는것을추천한다\n",
              "3                        교도소 이야기구먼 ..솔직히 재미는 없다..평점 조정\n",
              "4    사이몬페그의 익살스런 연기가 돋보였던 영화!스파이더맨에서 늙어보이기만 했던 커스틴 ...\n",
              "Name: document, dtype: object"
            ]
          },
          "metadata": {},
          "execution_count": 17
        }
      ]
    },
    {
      "cell_type": "code",
      "source": [
        "# 결측치 먼저 제거하기 위함\n",
        "train_data['document'].replace('', np.nan, inplace=True)\n",
        "train_data.isnull().sum()"
      ],
      "metadata": {
        "colab": {
          "base_uri": "https://localhost:8080/"
        },
        "id": "JjghHwByFbrv",
        "outputId": "0f668568-1138-4ed1-d29d-a60abe9180ec"
      },
      "execution_count": 18,
      "outputs": [
        {
          "output_type": "execute_result",
          "data": {
            "text/plain": [
              "id          0\n",
              "document    5\n",
              "label       0\n",
              "dtype: int64"
            ]
          },
          "metadata": {},
          "execution_count": 18
        }
      ]
    },
    {
      "cell_type": "code",
      "source": [
        "# 결측치 먼저 제거하기 위함\n",
        "train_data = train_data.dropna(how='any')\n",
        "print(len(train_data))"
      ],
      "metadata": {
        "colab": {
          "base_uri": "https://localhost:8080/"
        },
        "id": "fBijC_GjLos_",
        "outputId": "30444f87-f13a-480e-d6a8-c3d4a31454d2"
      },
      "execution_count": 19,
      "outputs": [
        {
          "output_type": "stream",
          "name": "stdout",
          "text": [
            "149995\n"
          ]
        }
      ]
    },
    {
      "cell_type": "code",
      "source": [
        "test_data['document'].str.replace(\"[^가-힣ㄱ-ㅎㅏ-ㅣ\\\\s]\", \"\")\n",
        "\n",
        "test_data.isnull().sum()"
      ],
      "metadata": {
        "colab": {
          "base_uri": "https://localhost:8080/"
        },
        "id": "MRlLzhRBL17q",
        "outputId": "22a9a85a-f48b-4f7a-b111-fd4796473ada"
      },
      "execution_count": 20,
      "outputs": [
        {
          "output_type": "stream",
          "name": "stderr",
          "text": [
            "/usr/local/lib/python3.7/dist-packages/ipykernel_launcher.py:1: FutureWarning: The default value of regex will change from True to False in a future version.\n",
            "  \"\"\"Entry point for launching an IPython kernel.\n"
          ]
        },
        {
          "output_type": "execute_result",
          "data": {
            "text/plain": [
              "id          0\n",
              "document    3\n",
              "label       0\n",
              "dtype: int64"
            ]
          },
          "metadata": {},
          "execution_count": 20
        }
      ]
    },
    {
      "cell_type": "code",
      "source": [
        "test_data['document'].replace('', np.nan, inplace=True)\n",
        "test_data = test_data.dropna(how='any')\n",
        "print(len(test_data))"
      ],
      "metadata": {
        "colab": {
          "base_uri": "https://localhost:8080/"
        },
        "id": "22l2FXfxL8Xz",
        "outputId": "de1f28bb-8b6a-4f7a-ed37-924ae30be505"
      },
      "execution_count": 21,
      "outputs": [
        {
          "output_type": "stream",
          "name": "stdout",
          "text": [
            "49997\n"
          ]
        }
      ]
    },
    {
      "cell_type": "markdown",
      "source": [
        "2. 전처리"
      ],
      "metadata": {
        "id": "ztDzQlnbUFun"
      }
    },
    {
      "cell_type": "code",
      "source": [
        "stop_words = set(['의','가','이','은','들','는','좀','잘','걍','과','도','를','으로','자','에','와','한','하다','아']) # 불용어 설정\n",
        "mecab = Mecab()\n",
        "\n",
        "# 정제된 train_review\n",
        "clean_train_review = []\n",
        "\n",
        "for review in train_data['document']:\n",
        "    if type(review) == str:\n",
        "        clean_train_review.append(preprocessing(review, mecab, remove_stopwords=True, stop_words=stop_words))\n",
        "    else:\n",
        "        clean_train_review.append([])"
      ],
      "metadata": {
        "id": "P9QXlDIoXycU"
      },
      "execution_count": 22,
      "outputs": []
    },
    {
      "cell_type": "code",
      "source": [
        "clean_train_review[:3]"
      ],
      "metadata": {
        "colab": {
          "base_uri": "https://localhost:8080/"
        },
        "id": "AzDm0qCvhfJ-",
        "outputId": "ba60724d-d91b-4b36-d11d-c4f580620559"
      },
      "execution_count": 23,
      "outputs": [
        {
          "output_type": "execute_result",
          "data": {
            "text/plain": [
              "[['더', '빙', '진짜', '짜증', '나', '네요', '목소리'],\n",
              " ['흠', '포스터', '보고', '초딩', '영화', '줄', '오버', '연기', '조차', '가볍', '지', '않', '구나'],\n",
              " ['너무', '재', '밓었다그래서보는것을추천한다']]"
            ]
          },
          "metadata": {},
          "execution_count": 23
        }
      ]
    },
    {
      "cell_type": "code",
      "source": [
        "# 정제된 test review\n",
        "clean_test_review = []\n",
        "\n",
        "for review in test_data['document']:\n",
        "    if type(review) == str:\n",
        "        clean_test_review.append(preprocessing(review, mecab, remove_stopwords=True, stop_words=stop_words))\n",
        "    else:\n",
        "        clean_test_review.append([])"
      ],
      "metadata": {
        "id": "oPLLJ1OMdtAy"
      },
      "execution_count": 24,
      "outputs": []
    },
    {
      "cell_type": "code",
      "source": [
        "clean_test_review[:3]"
      ],
      "metadata": {
        "colab": {
          "base_uri": "https://localhost:8080/"
        },
        "id": "jtP7OGTuhn2v",
        "outputId": "c4f92bd1-2790-4b7a-997c-bfd934a27d7a"
      },
      "execution_count": 25,
      "outputs": [
        {
          "output_type": "execute_result",
          "data": {
            "text/plain": [
              "[['굳', 'ㅋ'],\n",
              " [],\n",
              " ['뭐', '야', '평점', '나쁘', '진', '않', '지만', '점', '짜리', '더더욱', '아니', '잖아']]"
            ]
          },
          "metadata": {},
          "execution_count": 25
        }
      ]
    },
    {
      "cell_type": "markdown",
      "source": [
        "3. 토큰화"
      ],
      "metadata": {
        "id": "Ns7ZvFKaUIho"
      }
    },
    {
      "cell_type": "code",
      "source": [
        "tokenizer = Tokenizer()\n",
        "tokenizer.fit_on_texts(clean_train_review)\n",
        "# texts_to_sequences: 텍스트 내 단어들 숫자 시퀀스 형태로 변환\n",
        "train_sequences = tokenizer.texts_to_sequences(clean_train_review)\n",
        "test_sequences = tokenizer.texts_to_sequences(clean_test_review)\n",
        "\n",
        "word_vocab = tokenizer.word_index"
      ],
      "metadata": {
        "id": "uXQW60DFd4-s"
      },
      "execution_count": 26,
      "outputs": []
    },
    {
      "cell_type": "code",
      "source": [
        "# 정제된 전체 데이터셋 내 토큰 개수(문장 길이) 분포 살펴보기\n",
        "total_data_text = list(clean_train_review) + list(clean_test_review)\n",
        "\n",
        "num_tokens = [len(tokens) for tokens in total_data_text]\n",
        "num_tokens = np.array(num_tokens)\n",
        "\n",
        "print('평균 문장 길이 : ', np.mean(num_tokens))\n",
        "print('최대 문장 길이 : ', np.max(num_tokens))\n",
        "print('문장 길이 표준 편차 : ', np.std(num_tokens))"
      ],
      "metadata": {
        "colab": {
          "base_uri": "https://localhost:8080/"
        },
        "id": "4w03ptz1y0HL",
        "outputId": "aae797e2-41ad-48e0-f0e2-dfc4e134a6fe"
      },
      "execution_count": 27,
      "outputs": [
        {
          "output_type": "stream",
          "name": "stdout",
          "text": [
            "평균 문장 길이 :  13.387665506620264\n",
            "최대 문장 길이 :  83\n",
            "문장 길이 표준 편차 :  11.435601094181893\n"
          ]
        }
      ]
    },
    {
      "cell_type": "code",
      "source": [
        "# 문장 길이 분포\n",
        "sns.distplot(num_tokens)"
      ],
      "metadata": {
        "colab": {
          "base_uri": "https://localhost:8080/",
          "height": 337
        },
        "id": "6ocgFT3Qzqg-",
        "outputId": "ca6ace94-2892-4f35-9168-978dbcf0d901"
      },
      "execution_count": 28,
      "outputs": [
        {
          "output_type": "stream",
          "name": "stderr",
          "text": [
            "/usr/local/lib/python3.7/dist-packages/seaborn/distributions.py:2619: FutureWarning: `distplot` is a deprecated function and will be removed in a future version. Please adapt your code to use either `displot` (a figure-level function with similar flexibility) or `histplot` (an axes-level function for histograms).\n",
            "  warnings.warn(msg, FutureWarning)\n"
          ]
        },
        {
          "output_type": "execute_result",
          "data": {
            "text/plain": [
              "<matplotlib.axes._subplots.AxesSubplot at 0x7f1442595350>"
            ]
          },
          "metadata": {},
          "execution_count": 28
        },
        {
          "output_type": "display_data",
          "data": {
            "image/png": "[encoded data removed]",
            "text/plain": [
              "<Figure size 432x288 with 1 Axes>"
            ]
          },
          "metadata": {
            "needs_background": "light"
          }
        }
      ]
    },
    {
      "cell_type": "code",
      "source": [
        "# maxlen 설정 위한 확인과정\n",
        "max_tokens = np.mean(num_tokens) + 3 * np.std(num_tokens)\n",
        "maxlen = int(max_tokens)\n",
        "\n",
        "print('MAX_SEQUENCE_LENGTH : ', maxlen)\n",
        "print(f'전체 문장의 {np.sum(num_tokens < max_tokens) / len(num_tokens) * 100}%가 maxlen 설정값 이내에 포함')"
      ],
      "metadata": {
        "colab": {
          "base_uri": "https://localhost:8080/"
        },
        "id": "p5I-pcQiz_Ow",
        "outputId": "d2208a8e-82ca-443f-9eb9-8142ee24880f"
      },
      "execution_count": 29,
      "outputs": [
        {
          "output_type": "stream",
          "name": "stdout",
          "text": [
            "MAX_SEQUENCE_LENGTH :  47\n",
            "전체 문장의 97.08838353534142%가 maxlen 설정값 이내에 포함\n"
          ]
        }
      ]
    },
    {
      "cell_type": "markdown",
      "source": [
        "4. 패딩"
      ],
      "metadata": {
        "id": "OsCJf316Wn6B"
      }
    },
    {
      "cell_type": "code",
      "source": [
        "MAX_SEQUENCE_LENGTH = 47 # 문장 최대 길이\n",
        "\n",
        "# pad_sequences: 0 이용하여 같은 길이의 시퀀스로 변환\n",
        "train_inputs = pad_sequences(train_sequences, maxlen=MAX_SEQUENCE_LENGTH, padding='pre')\n",
        "train_labels = np.array(train_data['label'])\n",
        "test_inputs = pad_sequences(test_sequences, maxlen=MAX_SEQUENCE_LENGTH, padding='pre')\n",
        "test_labels = np.array(test_data['label'])"
      ],
      "metadata": {
        "id": "XgeGM6l3y0hM"
      },
      "execution_count": 30,
      "outputs": []
    },
    {
      "cell_type": "code",
      "source": [
        "train_inputs.shape, test_inputs.shape"
      ],
      "metadata": {
        "colab": {
          "base_uri": "https://localhost:8080/"
        },
        "id": "2A-hfHLM1hb-",
        "outputId": "8df589e6-35ca-4647-b07e-1742fba57481"
      },
      "execution_count": 31,
      "outputs": [
        {
          "output_type": "execute_result",
          "data": {
            "text/plain": [
              "((149995, 47), (49997, 47))"
            ]
          },
          "metadata": {},
          "execution_count": 31
        }
      ]
    },
    {
      "cell_type": "code",
      "source": [
        "# key값으로 단어 가져오기 위해 index_to_word도 생성\n",
        "index_to_word = {index:word for word, index in word_vocab.items()}"
      ],
      "metadata": {
        "id": "VOu4BK3mmc-g"
      },
      "execution_count": 32,
      "outputs": []
    },
    {
      "cell_type": "markdown",
      "source": [
        "5. Embedding matrix 생성"
      ],
      "metadata": {
        "id": "yXlEM24QW2D3"
      }
    },
    {
      "cell_type": "code",
      "source": [
        "len(word_vocab)"
      ],
      "metadata": {
        "colab": {
          "base_uri": "https://localhost:8080/"
        },
        "id": "YAWtdN_e5R8S",
        "outputId": "f4fe9823-c241-48dc-e896-331825cffc7e"
      },
      "execution_count": 33,
      "outputs": [
        {
          "output_type": "execute_result",
          "data": {
            "text/plain": [
              "49945"
            ]
          },
          "metadata": {},
          "execution_count": 33
        }
      ]
    },
    {
      "cell_type": "code",
      "source": [
        "vocab_size = len(word_vocab)  # 어휘 사전의 크기\n",
        "word_vector_dim = 300  # 워드 벡터의 차원수 (변경가능한 하이퍼파라미터)\n",
        "\n",
        "# 임베딩 틀 잡기\n",
        "embedding_matrix = np.random.rand(vocab_size, word_vector_dim)\n",
        "\n",
        "# 앞부분 특수문자 제외 & 우리가 만든 단어사전 단어가 fast_words에 있다면 임베딩 매트릭스에 해당 단어 채워넣기\n",
        "for i in range(1, vocab_size):\n",
        "    if index_to_word[i] in fast_words:\n",
        "        embedding_matrix[i] = ft[index_to_word[i]]"
      ],
      "metadata": {
        "id": "Ybs9epoy9WTS"
      },
      "execution_count": 34,
      "outputs": []
    },
    {
      "cell_type": "code",
      "source": [
        "len(embedding_matrix)"
      ],
      "metadata": {
        "colab": {
          "base_uri": "https://localhost:8080/"
        },
        "id": "t1gs8TbYNVvz",
        "outputId": "a497919a-4797-4c77-c63e-9476a5f735f9"
      },
      "execution_count": 35,
      "outputs": [
        {
          "output_type": "execute_result",
          "data": {
            "text/plain": [
              "49945"
            ]
          },
          "metadata": {},
          "execution_count": 35
        }
      ]
    },
    {
      "cell_type": "markdown",
      "source": [
        "6. 토큰화한 데이터 저장"
      ],
      "metadata": {
        "id": "tSNBMoSCXFHA"
      }
    },
    {
      "cell_type": "code",
      "source": [
        "import json\n",
        "\n",
        "data_path = '/content/drive/MyDrive/DACON/'\n",
        "train_input_data = 'nsmc_train_input.npy'\n",
        "train_label_data = 'nsmc_train_label.npy'\n",
        "test_input_data = 'nsmc_test_input.npy'\n",
        "test_label_data = 'nsmc_test_label.npy'\n",
        "embedd = 'nsmc_embbedding_matrix.npy'\n",
        "Data_configs = 'data_configs.json'\n",
        "\n",
        "data_configs = {}\n",
        "data_configs['vocab'] = word_vocab\n",
        "data_configs['vocab_size'] = len(embedding_matrix)+1\n",
        "\n",
        "# numpy 파일로 저장\n",
        "np.save(open(data_path + train_input_data, 'wb'), train_inputs)\n",
        "np.save(open(data_path + train_label_data, 'wb'), train_labels)\n",
        "\n",
        "np.save(open(data_path + test_input_data, 'wb'), test_inputs)\n",
        "np.save(open(data_path + test_label_data, 'wb'), test_labels)\n",
        "\n",
        "np.save(open(data_path + embedd, 'wb'), embedding_matrix)\n",
        "\n",
        "# 단어 사전 json으로 저장\n",
        "json.dump(data_configs, open(data_path + Data_configs, 'w'), ensure_ascii=False)"
      ],
      "metadata": {
        "id": "0JsRiwZpPUTD"
      },
      "execution_count": 36,
      "outputs": []
    },
    {
      "cell_type": "code",
      "source": [
        "# fasttext 램 줄이기\n",
        "del ft"
      ],
      "metadata": {
        "id": "GXciRFfUBit7"
      },
      "execution_count": 37,
      "outputs": []
    },
    {
      "cell_type": "markdown",
      "source": [
        "# CNN-non-static"
      ],
      "metadata": {
        "id": "K9RtgfMHi4Tq"
      }
    },
    {
      "cell_type": "markdown",
      "source": [
        "1. 모델 생성"
      ],
      "metadata": {
        "id": "4j3sReI0YOii"
      }
    },
    {
      "cell_type": "code",
      "source": [
        "from tensorflow.keras.initializers import Constant\n",
        "\n",
        "# Sequential 모델 구성\n",
        "# Functional API 돌려봤는데 Sequential이 성능 더 좋았음\n",
        "nonst = Sequential()\n",
        "# Embedding: (vocab_size, word_vector_dim) 차원에 입력 벡터 뿌리기\n",
        "# trainable: True는 non-static, False는 static\n",
        "# non-static: task마다 벡터값 update(fine-tuning)\n",
        "nonst.add(Embedding(vocab_size, \n",
        "                    word_vector_dim,\n",
        "                    embeddings_initializer=Constant(embedding_matrix),\n",
        "                    input_length=MAX_SEQUENCE_LENGTH,\n",
        "                    trainable=True))\n",
        "nonst.add(Conv1D(32, 7, activation='relu'))\n",
        "nonst.add(MaxPooling1D(5))\n",
        "nonst.add(Conv1D(32, 7, activation='relu'))\n",
        "nonst.add(GlobalMaxPooling1D())\n",
        "nonst.add(Dropout(0.5))\n",
        "nonst.add(Dense(16, activation='relu'))\n",
        "nonst.add(Dense(1, activation='sigmoid'))\n",
        "\n",
        "nonst.summary()"
      ],
      "metadata": {
        "colab": {
          "base_uri": "https://localhost:8080/"
        },
        "id": "1_joQeC_5zGR",
        "outputId": "d57951f6-006d-4522-b1cb-1f9a606ce3ca"
      },
      "execution_count": 38,
      "outputs": [
        {
          "output_type": "stream",
          "name": "stdout",
          "text": [
            "Model: \"sequential\"\n",
            "_________________________________________________________________\n",
            " Layer (type)                Output Shape              Param #   \n",
            "=================================================================\n",
            " embedding (Embedding)       (None, 47, 300)           14983500  \n",
            "                                                                 \n",
            " conv1d (Conv1D)             (None, 41, 32)            67232     \n",
            "                                                                 \n",
            " max_pooling1d (MaxPooling1D  (None, 8, 32)            0         \n",
            " )                                                               \n",
            "                                                                 \n",
            " conv1d_1 (Conv1D)           (None, 2, 32)             7200      \n",
            "                                                                 \n",
            " global_max_pooling1d (Globa  (None, 32)               0         \n",
            " lMaxPooling1D)                                                  \n",
            "                                                                 \n",
            " dropout (Dropout)           (None, 32)                0         \n",
            "                                                                 \n",
            " dense (Dense)               (None, 16)                528       \n",
            "                                                                 \n",
            " dense_1 (Dense)             (None, 1)                 17        \n",
            "                                                                 \n",
            "=================================================================\n",
            "Total params: 15,058,477\n",
            "Trainable params: 15,058,477\n",
            "Non-trainable params: 0\n",
            "_________________________________________________________________\n"
          ]
        }
      ]
    },
    {
      "cell_type": "markdown",
      "source": [
        "2. 모델 compile - 모델 학습 위한 학습과정 설정"
      ],
      "metadata": {
        "id": "zWSaKMFzYNFU"
      }
    },
    {
      "cell_type": "code",
      "source": [
        "nonst.compile(optimizer='adam',\n",
        "              loss='binary_crossentropy',\n",
        "              metrics=['accuracy'])"
      ],
      "metadata": {
        "id": "8CDf7r739O20"
      },
      "execution_count": 39,
      "outputs": []
    },
    {
      "cell_type": "markdown",
      "source": [
        "3. callback - checkpoint, earlystopping"
      ],
      "metadata": {
        "id": "fRXqPPtjYROy"
      }
    },
    {
      "cell_type": "code",
      "source": [
        "MODEL_SAVE_FOLDER = '/content/drive/MyDrive/DACON'\n",
        "model_path = f\"{MODEL_SAVE_FOLDER}mmist-{{epoch:d}}-{{val_loss:.5f}}-{{val_accuracy:.5f}}.hdf5\"\n",
        "\n",
        "cb_checkpoint = ModelCheckpoint(filepath=model_path, \n",
        "                                monitor='val_accuracy',\n",
        "                                save_weights_only=True,\n",
        "                                verbose=1,\n",
        "                                save_best_only=True)\n",
        "cb_early_stopping= EarlyStopping(monitor='val_accuracy',min_delta=0.0001, patience=4) # did not imporoved가 연속으로 4번 나오면 학습 stop"
      ],
      "metadata": {
        "id": "e11MwMmO-XR3"
      },
      "execution_count": 40,
      "outputs": []
    },
    {
      "cell_type": "markdown",
      "source": [
        "4. train과 validation set 분리"
      ],
      "metadata": {
        "id": "2HuFMPBEYcxF"
      }
    },
    {
      "cell_type": "code",
      "source": [
        "# validation set 30000건 분리(전체 data의 약 20%)\n",
        "X_val = train_inputs[:30000]   \n",
        "y_val = train_labels[:30000]\n",
        "\n",
        "# validation set을 제외한 나머지 118182건\n",
        "partial_X_train = train_inputs[30000:]  \n",
        "partial_y_train = train_labels[30000:]\n",
        "\n",
        "print(partial_X_train.shape)\n",
        "print(partial_y_train.shape)"
      ],
      "metadata": {
        "colab": {
          "base_uri": "https://localhost:8080/"
        },
        "id": "S7OkJBjCAf0z",
        "outputId": "dedf2f29-7e77-412c-8305-28cd7dc8eb77"
      },
      "execution_count": 41,
      "outputs": [
        {
          "output_type": "stream",
          "name": "stdout",
          "text": [
            "(119995, 47)\n",
            "(119995,)\n"
          ]
        }
      ]
    },
    {
      "cell_type": "markdown",
      "source": [
        "5. 모델 학습"
      ],
      "metadata": {
        "id": "PrKE95fnY7Wq"
      }
    },
    {
      "cell_type": "code",
      "source": [
        "epochs = 20\n",
        "\n",
        "hist = nonst.fit(partial_X_train, partial_y_train, \n",
        "                 batch_size=256, epochs=epochs, validation_data=(X_val, y_val), \n",
        "                 callbacks=[cb_early_stopping, cb_checkpoint])"
      ],
      "metadata": {
        "colab": {
          "base_uri": "https://localhost:8080/"
        },
        "id": "95-zOsFH9psd",
        "outputId": "e12e732c-02b5-428e-de2c-989b9de247a7"
      },
      "execution_count": 42,
      "outputs": [
        {
          "output_type": "stream",
          "name": "stdout",
          "text": [
            "Epoch 1/20\n",
            "469/469 [==============================] - ETA: 0s - loss: 0.5254 - accuracy: 0.7127\n",
            "Epoch 1: val_accuracy improved from -inf to 0.82313, saving model to /content/drive/MyDrive/DACONmmist-1-0.39126-0.82313.hdf5\n",
            "469/469 [==============================] - 31s 26ms/step - loss: 0.5254 - accuracy: 0.7127 - val_loss: 0.3913 - val_accuracy: 0.8231\n",
            "Epoch 2/20\n",
            "468/469 [============================>.] - ETA: 0s - loss: 0.3636 - accuracy: 0.8405\n",
            "Epoch 2: val_accuracy improved from 0.82313 to 0.83023, saving model to /content/drive/MyDrive/DACONmmist-2-0.37055-0.83023.hdf5\n",
            "469/469 [==============================] - 12s 25ms/step - loss: 0.3636 - accuracy: 0.8406 - val_loss: 0.3705 - val_accuracy: 0.8302\n",
            "Epoch 3/20\n",
            "469/469 [==============================] - ETA: 0s - loss: 0.2977 - accuracy: 0.8751\n",
            "Epoch 3: val_accuracy improved from 0.83023 to 0.83213, saving model to /content/drive/MyDrive/DACONmmist-3-0.37711-0.83213.hdf5\n",
            "469/469 [==============================] - 12s 25ms/step - loss: 0.2977 - accuracy: 0.8751 - val_loss: 0.3771 - val_accuracy: 0.8321\n",
            "Epoch 4/20\n",
            "469/469 [==============================] - ETA: 0s - loss: 0.2331 - accuracy: 0.9038\n",
            "Epoch 4: val_accuracy did not improve from 0.83213\n",
            "469/469 [==============================] - 12s 25ms/step - loss: 0.2331 - accuracy: 0.9038 - val_loss: 0.4096 - val_accuracy: 0.8271\n",
            "Epoch 5/20\n",
            "469/469 [==============================] - ETA: 0s - loss: 0.1767 - accuracy: 0.9267\n",
            "Epoch 5: val_accuracy did not improve from 0.83213\n",
            "469/469 [==============================] - 11s 24ms/step - loss: 0.1767 - accuracy: 0.9267 - val_loss: 0.4747 - val_accuracy: 0.8257\n",
            "Epoch 6/20\n",
            "467/469 [============================>.] - ETA: 0s - loss: 0.1402 - accuracy: 0.9414\n",
            "Epoch 6: val_accuracy did not improve from 0.83213\n",
            "469/469 [==============================] - 11s 24ms/step - loss: 0.1402 - accuracy: 0.9414 - val_loss: 0.5538 - val_accuracy: 0.8233\n",
            "Epoch 7/20\n",
            "468/469 [============================>.] - ETA: 0s - loss: 0.1173 - accuracy: 0.9503\n",
            "Epoch 7: val_accuracy did not improve from 0.83213\n",
            "469/469 [==============================] - 11s 24ms/step - loss: 0.1175 - accuracy: 0.9502 - val_loss: 0.6379 - val_accuracy: 0.8172\n"
          ]
        }
      ]
    },
    {
      "cell_type": "markdown",
      "source": [
        "6. accuracy, loss 그래프 시각화"
      ],
      "metadata": {
        "id": "m9XzO2L5Y_KR"
      }
    },
    {
      "cell_type": "code",
      "source": [
        "def plot_graphs(hist, string):\n",
        "    plt.plot(hist.history[string])\n",
        "    plt.plot(hist.history['val_'+string])\n",
        "    plt.xlabel('Epochs')\n",
        "    plt.ylabel(string)\n",
        "    plt.legend([string, 'val_'+string])\n",
        "    plt.show()\n",
        "\n",
        "plot_graphs(hist, 'accuracy')\n",
        "plot_graphs(hist, 'loss')\n",
        "# 초반 train에 과적합돼서 valid loss는 커지게 됨"
      ],
      "metadata": {
        "colab": {
          "base_uri": "https://localhost:8080/",
          "height": 541
        },
        "id": "Nze2P1McYHP7",
        "outputId": "e709b086-e69d-42c3-c90e-e2f1b052812b"
      },
      "execution_count": 43,
      "outputs": [
        {
          "output_type": "display_data",
          "data": {
            "image/png": "[encoded data removed]",
            "text/plain": [
              "<Figure size 432x288 with 1 Axes>"
            ]
          },
          "metadata": {
            "needs_background": "light"
          }
        },
        {
          "output_type": "display_data",
          "data": {
            "image/png": "[encoded data removed]",
            "text/plain": [
              "<Figure size 432x288 with 1 Axes>"
            ]
          },
          "metadata": {
            "needs_background": "light"
          }
        }
      ]
    },
    {
      "cell_type": "markdown",
      "source": [
        "7. 모델 저장"
      ],
      "metadata": {
        "id": "SBceYnVJZEX4"
      }
    },
    {
      "cell_type": "code",
      "source": [
        "nonst.save(\"nonstatic_model\")"
      ],
      "metadata": {
        "colab": {
          "base_uri": "https://localhost:8080/"
        },
        "id": "H1goUNgtgQ0i",
        "outputId": "da31d9d8-0f5c-4925-b55b-941a73e11e6e"
      },
      "execution_count": 44,
      "outputs": [
        {
          "output_type": "stream",
          "name": "stdout",
          "text": [
            "INFO:tensorflow:Assets written to: nonstatic_model/assets\n"
          ]
        }
      ]
    },
    {
      "cell_type": "markdown",
      "source": [
        "8. 모델 평가"
      ],
      "metadata": {
        "id": "omfkWAD4ZGtX"
      }
    },
    {
      "cell_type": "code",
      "source": [
        "# test set에 모델 적용 - 81.16%\n",
        "nonst.evaluate(test_inputs, test_labels)"
      ],
      "metadata": {
        "colab": {
          "base_uri": "https://localhost:8080/"
        },
        "id": "U3B7pFr0YRpm",
        "outputId": "3735935a-8940-4d99-b903-55fc713eaf1e"
      },
      "execution_count": 45,
      "outputs": [
        {
          "output_type": "stream",
          "name": "stdout",
          "text": [
            "1563/1563 [==============================] - 7s 4ms/step - loss: 0.6585 - accuracy: 0.8116\n"
          ]
        },
        {
          "output_type": "execute_result",
          "data": {
            "text/plain": [
              "[0.6584598422050476, 0.8116487264633179]"
            ]
          },
          "metadata": {},
          "execution_count": 45
        }
      ]
    },
    {
      "cell_type": "markdown",
      "source": [
        "# CNN-static"
      ],
      "metadata": {
        "id": "8dqIuKJQ46ah"
      }
    },
    {
      "cell_type": "code",
      "source": [
        "static = Sequential()\n",
        "static.add(Embedding(vocab_size, \n",
        "                    word_vector_dim,\n",
        "                    embeddings_initializer=Constant(embedding_matrix),\n",
        "                    input_length=MAX_SEQUENCE_LENGTH,\n",
        "                    trainable=False))\n",
        "static.add(Conv1D(32, 7, activation='relu'))\n",
        "static.add(MaxPooling1D(5))\n",
        "static.add(Conv1D(32, 7, activation='relu'))\n",
        "static.add(GlobalMaxPooling1D())\n",
        "static.add(Dropout(0.5))\n",
        "static.add(Dense(16, activation='relu'))\n",
        "static.add(Dense(1, activation='sigmoid'))\n",
        "\n",
        "static.summary()"
      ],
      "metadata": {
        "id": "2a4f2Tb2pFMs",
        "colab": {
          "base_uri": "https://localhost:8080/"
        },
        "outputId": "c3e11cbc-6c0a-4b33-cb00-1ad7a319b6ea"
      },
      "execution_count": 46,
      "outputs": [
        {
          "output_type": "stream",
          "name": "stdout",
          "text": [
            "Model: \"sequential_1\"\n",
            "_________________________________________________________________\n",
            " Layer (type)                Output Shape              Param #   \n",
            "=================================================================\n",
            " embedding_1 (Embedding)     (None, 47, 300)           14983500  \n",
            "                                                                 \n",
            " conv1d_2 (Conv1D)           (None, 41, 32)            67232     \n",
            "                                                                 \n",
            " max_pooling1d_1 (MaxPooling  (None, 8, 32)            0         \n",
            " 1D)                                                             \n",
            "                                                                 \n",
            " conv1d_3 (Conv1D)           (None, 2, 32)             7200      \n",
            "                                                                 \n",
            " global_max_pooling1d_1 (Glo  (None, 32)               0         \n",
            " balMaxPooling1D)                                                \n",
            "                                                                 \n",
            " dropout_1 (Dropout)         (None, 32)                0         \n",
            "                                                                 \n",
            " dense_2 (Dense)             (None, 16)                528       \n",
            "                                                                 \n",
            " dense_3 (Dense)             (None, 1)                 17        \n",
            "                                                                 \n",
            "=================================================================\n",
            "Total params: 15,058,477\n",
            "Trainable params: 74,977\n",
            "Non-trainable params: 14,983,500\n",
            "_________________________________________________________________\n"
          ]
        }
      ]
    },
    {
      "cell_type": "code",
      "source": [
        "static.compile(optimizer='adam',\n",
        "              loss='binary_crossentropy',\n",
        "              metrics=['accuracy'])"
      ],
      "metadata": {
        "id": "gRJJ7V5mZImV"
      },
      "execution_count": 47,
      "outputs": []
    },
    {
      "cell_type": "code",
      "source": [
        "epochs = 20\n",
        "\n",
        "hist2 = static.fit(partial_X_train, partial_y_train, \n",
        "                 batch_size=256, epochs=epochs, validation_data=(X_val, y_val), \n",
        "                 callbacks=[cb_early_stopping, cb_checkpoint])"
      ],
      "metadata": {
        "id": "ln1vac6lps0N",
        "colab": {
          "base_uri": "https://localhost:8080/"
        },
        "outputId": "e454fe4d-4656-45e2-a029-82c49d250994"
      },
      "execution_count": 48,
      "outputs": [
        {
          "output_type": "stream",
          "name": "stdout",
          "text": [
            "Epoch 1/20\n",
            "469/469 [==============================] - ETA: 0s - loss: 0.5942 - accuracy: 0.6648\n",
            "Epoch 1: val_accuracy did not improve from 0.83213\n",
            "469/469 [==============================] - 6s 11ms/step - loss: 0.5942 - accuracy: 0.6648 - val_loss: 0.5089 - val_accuracy: 0.7359\n",
            "Epoch 2/20\n",
            "467/469 [============================>.] - ETA: 0s - loss: 0.4951 - accuracy: 0.7583\n",
            "Epoch 2: val_accuracy did not improve from 0.83213\n",
            "469/469 [==============================] - 5s 11ms/step - loss: 0.4949 - accuracy: 0.7583 - val_loss: 0.4771 - val_accuracy: 0.7688\n",
            "Epoch 3/20\n",
            "469/469 [==============================] - ETA: 0s - loss: 0.4559 - accuracy: 0.7825\n",
            "Epoch 3: val_accuracy did not improve from 0.83213\n",
            "469/469 [==============================] - 5s 12ms/step - loss: 0.4559 - accuracy: 0.7825 - val_loss: 0.4563 - val_accuracy: 0.7807\n",
            "Epoch 4/20\n",
            "466/469 [============================>.] - ETA: 0s - loss: 0.4261 - accuracy: 0.8015\n",
            "Epoch 4: val_accuracy did not improve from 0.83213\n",
            "469/469 [==============================] - 5s 10ms/step - loss: 0.4262 - accuracy: 0.8015 - val_loss: 0.4518 - val_accuracy: 0.7860\n",
            "Epoch 5/20\n",
            "465/469 [============================>.] - ETA: 0s - loss: 0.4025 - accuracy: 0.8122\n",
            "Epoch 5: val_accuracy did not improve from 0.83213\n",
            "469/469 [==============================] - 5s 10ms/step - loss: 0.4026 - accuracy: 0.8121 - val_loss: 0.4562 - val_accuracy: 0.7838\n",
            "Epoch 6/20\n",
            "467/469 [============================>.] - ETA: 0s - loss: 0.3773 - accuracy: 0.8258\n",
            "Epoch 6: val_accuracy did not improve from 0.83213\n",
            "469/469 [==============================] - 5s 10ms/step - loss: 0.3773 - accuracy: 0.8259 - val_loss: 0.4601 - val_accuracy: 0.7837\n",
            "Epoch 7/20\n",
            "464/469 [============================>.] - ETA: 0s - loss: 0.3589 - accuracy: 0.8356\n",
            "Epoch 7: val_accuracy did not improve from 0.83213\n",
            "469/469 [==============================] - 5s 10ms/step - loss: 0.3589 - accuracy: 0.8357 - val_loss: 0.4645 - val_accuracy: 0.7889\n",
            "Epoch 8/20\n",
            "467/469 [============================>.] - ETA: 0s - loss: 0.3383 - accuracy: 0.8455\n",
            "Epoch 8: val_accuracy did not improve from 0.83213\n",
            "469/469 [==============================] - 5s 10ms/step - loss: 0.3383 - accuracy: 0.8455 - val_loss: 0.4804 - val_accuracy: 0.7838\n",
            "Epoch 9/20\n",
            "466/469 [============================>.] - ETA: 0s - loss: 0.3193 - accuracy: 0.8538\n",
            "Epoch 9: val_accuracy did not improve from 0.83213\n",
            "469/469 [==============================] - 5s 10ms/step - loss: 0.3195 - accuracy: 0.8537 - val_loss: 0.5315 - val_accuracy: 0.7749\n",
            "Epoch 10/20\n",
            "465/469 [============================>.] - ETA: 0s - loss: 0.3039 - accuracy: 0.8609\n",
            "Epoch 10: val_accuracy did not improve from 0.83213\n",
            "469/469 [==============================] - 5s 10ms/step - loss: 0.3041 - accuracy: 0.8609 - val_loss: 0.5111 - val_accuracy: 0.7819\n",
            "Epoch 11/20\n",
            "466/469 [============================>.] - ETA: 0s - loss: 0.2895 - accuracy: 0.8670\n",
            "Epoch 11: val_accuracy did not improve from 0.83213\n",
            "469/469 [==============================] - 5s 10ms/step - loss: 0.2896 - accuracy: 0.8670 - val_loss: 0.5456 - val_accuracy: 0.7836\n"
          ]
        }
      ]
    },
    {
      "cell_type": "code",
      "source": [
        "def plot_graphs(hist, string):\n",
        "    plt.plot(hist2.history[string])\n",
        "    plt.plot(hist2.history['val_'+string])\n",
        "    plt.xlabel('Epochs')\n",
        "    plt.ylabel(string)\n",
        "    plt.legend([string, 'val_'+string])\n",
        "    plt.show()\n",
        "\n",
        "plot_graphs(hist2, 'accuracy')\n",
        "plot_graphs(hist2, 'loss')\n",
        "# 초반 train에 과적합돼서 valid loss는 커지게 됨"
      ],
      "metadata": {
        "colab": {
          "base_uri": "https://localhost:8080/",
          "height": 543
        },
        "id": "h4DPI1BBhjHN",
        "outputId": "b4ceb0e1-0dbf-4b6d-e0ef-75ec102d899c"
      },
      "execution_count": 49,
      "outputs": [
        {
          "output_type": "display_data",
          "data": {
            "image/png": "[encoded data removed]",
            "text/plain": [
              "<Figure size 432x288 with 1 Axes>"
            ]
          },
          "metadata": {
            "needs_background": "light"
          }
        },
        {
          "output_type": "display_data",
          "data": {
            "image/png": "[encoded data removed]",
            "text/plain": [
              "<Figure size 432x288 with 1 Axes>"
            ]
          },
          "metadata": {
            "needs_background": "light"
          }
        }
      ]
    },
    {
      "cell_type": "code",
      "source": [
        "static.save(\"static_cnn\")"
      ],
      "metadata": {
        "id": "D_sp_oQTgg5i",
        "colab": {
          "base_uri": "https://localhost:8080/"
        },
        "outputId": "010b13f6-86f7-4762-8de6-0e175c0e3402"
      },
      "execution_count": 50,
      "outputs": [
        {
          "output_type": "stream",
          "name": "stdout",
          "text": [
            "INFO:tensorflow:Assets written to: static_cnn/assets\n"
          ]
        }
      ]
    },
    {
      "cell_type": "code",
      "source": [
        "# test set에 모델 적용 - 78.03%\n",
        "results = static.evaluate(test_inputs, test_labels)\n",
        "\n",
        "print(results)"
      ],
      "metadata": {
        "colab": {
          "base_uri": "https://localhost:8080/"
        },
        "id": "MLuVaGFLQWmn",
        "outputId": "7262aefe-5a4f-4805-edcb-01ad773a8642"
      },
      "execution_count": 51,
      "outputs": [
        {
          "output_type": "stream",
          "name": "stdout",
          "text": [
            "1563/1563 [==============================] - 6s 4ms/step - loss: 0.5557 - accuracy: 0.7803\n",
            "[0.5557475686073303, 0.7803268432617188]\n"
          ]
        }
      ]
    },
    {
      "cell_type": "markdown",
      "source": [
        "# CNN-rand"
      ],
      "metadata": {
        "id": "DQ7neowfiy4z"
      }
    },
    {
      "cell_type": "code",
      "source": [
        "rand = Sequential()\n",
        "rand.add(Embedding(vocab_size, word_vector_dim))\n",
        "rand.add(Conv1D(32, 7, activation='relu'))\n",
        "rand.add(MaxPooling1D(5))\n",
        "rand.add(Conv1D(32, 7, activation='relu'))\n",
        "rand.add(GlobalMaxPooling1D())\n",
        "rand.add(Dropout(0.5))\n",
        "rand.add(Dense(16, activation='relu'))\n",
        "rand.add(Dense(1, activation='sigmoid'))\n",
        "\n",
        "rand.summary()"
      ],
      "metadata": {
        "id": "Ry_38Sj_ewVG",
        "colab": {
          "base_uri": "https://localhost:8080/"
        },
        "outputId": "6a35d897-b650-4bc3-e02d-dea268699a59"
      },
      "execution_count": 54,
      "outputs": [
        {
          "output_type": "stream",
          "name": "stdout",
          "text": [
            "Model: \"sequential_4\"\n",
            "_________________________________________________________________\n",
            " Layer (type)                Output Shape              Param #   \n",
            "=================================================================\n",
            " embedding_2 (Embedding)     (None, None, 300)         14983500  \n",
            "                                                                 \n",
            " conv1d_6 (Conv1D)           (None, None, 32)          67232     \n",
            "                                                                 \n",
            " max_pooling1d_3 (MaxPooling  (None, None, 32)         0         \n",
            " 1D)                                                             \n",
            "                                                                 \n",
            " conv1d_7 (Conv1D)           (None, None, 32)          7200      \n",
            "                                                                 \n",
            " global_max_pooling1d_3 (Glo  (None, 32)               0         \n",
            " balMaxPooling1D)                                                \n",
            "                                                                 \n",
            " dropout_3 (Dropout)         (None, 32)                0         \n",
            "                                                                 \n",
            " dense_6 (Dense)             (None, 16)                528       \n",
            "                                                                 \n",
            " dense_7 (Dense)             (None, 1)                 17        \n",
            "                                                                 \n",
            "=================================================================\n",
            "Total params: 15,058,477\n",
            "Trainable params: 15,058,477\n",
            "Non-trainable params: 0\n",
            "_________________________________________________________________\n"
          ]
        }
      ]
    },
    {
      "cell_type": "code",
      "source": [
        "rand.compile(optimizer='adam',\n",
        "              loss='binary_crossentropy',\n",
        "              metrics=['accuracy'])"
      ],
      "metadata": {
        "id": "BtKXMur7i4jS"
      },
      "execution_count": 55,
      "outputs": []
    },
    {
      "cell_type": "code",
      "source": [
        "epochs = 20\n",
        "\n",
        "hist3 = rand.fit(partial_X_train, partial_y_train, \n",
        "                 batch_size=256, epochs=epochs, validation_data=(X_val, y_val), \n",
        "                 callbacks=[cb_early_stopping, cb_checkpoint])"
      ],
      "metadata": {
        "colab": {
          "base_uri": "https://localhost:8080/"
        },
        "id": "MYuZbYehjP9y",
        "outputId": "f4dea07f-5b30-4a72-b612-f0dd2615f5fe"
      },
      "execution_count": 58,
      "outputs": [
        {
          "output_type": "stream",
          "name": "stdout",
          "text": [
            "Epoch 1/20\n",
            "467/469 [============================>.] - ETA: 0s - loss: 0.4627 - accuracy: 0.7699\n",
            "Epoch 1: val_accuracy did not improve from 0.83213\n",
            "469/469 [==============================] - 15s 27ms/step - loss: 0.4626 - accuracy: 0.7700 - val_loss: 0.3713 - val_accuracy: 0.8272\n",
            "Epoch 2/20\n",
            "469/469 [==============================] - ETA: 0s - loss: 0.3152 - accuracy: 0.8657\n",
            "Epoch 2: val_accuracy improved from 0.83213 to 0.83447, saving model to /content/drive/MyDrive/DACONmmist-2-0.36161-0.83447.hdf5\n",
            "469/469 [==============================] - 12s 25ms/step - loss: 0.3152 - accuracy: 0.8657 - val_loss: 0.3616 - val_accuracy: 0.8345\n",
            "Epoch 3/20\n",
            "467/469 [============================>.] - ETA: 0s - loss: 0.2190 - accuracy: 0.9096\n",
            "Epoch 3: val_accuracy did not improve from 0.83447\n",
            "469/469 [==============================] - 13s 28ms/step - loss: 0.2191 - accuracy: 0.9096 - val_loss: 0.4066 - val_accuracy: 0.8289\n",
            "Epoch 4/20\n",
            "469/469 [==============================] - ETA: 0s - loss: 0.1535 - accuracy: 0.9362\n",
            "Epoch 4: val_accuracy did not improve from 0.83447\n",
            "469/469 [==============================] - 13s 27ms/step - loss: 0.1535 - accuracy: 0.9362 - val_loss: 0.5039 - val_accuracy: 0.8217\n",
            "Epoch 5/20\n",
            "469/469 [==============================] - ETA: 0s - loss: 0.1143 - accuracy: 0.9512\n",
            "Epoch 5: val_accuracy did not improve from 0.83447\n",
            "469/469 [==============================] - 12s 26ms/step - loss: 0.1143 - accuracy: 0.9512 - val_loss: 0.5739 - val_accuracy: 0.8215\n",
            "Epoch 6/20\n",
            "468/469 [============================>.] - ETA: 0s - loss: 0.0921 - accuracy: 0.9594\n",
            "Epoch 6: val_accuracy did not improve from 0.83447\n",
            "469/469 [==============================] - 12s 26ms/step - loss: 0.0921 - accuracy: 0.9594 - val_loss: 0.7009 - val_accuracy: 0.8178\n"
          ]
        }
      ]
    },
    {
      "cell_type": "code",
      "source": [
        "def plot_graphs(hist, string):\n",
        "    plt.plot(hist3.history[string])\n",
        "    plt.plot(hist3.history['val_'+string])\n",
        "    plt.xlabel('Epochs')\n",
        "    plt.ylabel(string)\n",
        "    plt.legend([string, 'val_'+string])\n",
        "    plt.show()\n",
        "\n",
        "plot_graphs(hist3, 'accuracy')\n",
        "plot_graphs(hist3, 'loss')"
      ],
      "metadata": {
        "colab": {
          "base_uri": "https://localhost:8080/",
          "height": 541
        },
        "id": "nzHD1cEyjUwS",
        "outputId": "8d3b929b-abd6-4a2f-ac69-deabd6039642"
      },
      "execution_count": 59,
      "outputs": [
        {
          "output_type": "display_data",
          "data": {
            "image/png": "[encoded data removed]",
            "text/plain": [
              "<Figure size 432x288 with 1 Axes>"
            ]
          },
          "metadata": {
            "needs_background": "light"
          }
        },
        {
          "output_type": "display_data",
          "data": {
            "image/png": "[encoded data removed]",
            "text/plain": [
              "<Figure size 432x288 with 1 Axes>"
            ]
          },
          "metadata": {
            "needs_background": "light"
          }
        }
      ]
    },
    {
      "cell_type": "code",
      "source": [
        "# test set에 모델 적용 - 81.49%\n",
        "results = rand.evaluate(test_inputs, test_labels)\n",
        "\n",
        "print(results)"
      ],
      "metadata": {
        "colab": {
          "base_uri": "https://localhost:8080/"
        },
        "id": "03KVCC_IkVMy",
        "outputId": "7f2d4eb3-c967-4154-806a-b686aa8b4af9"
      },
      "execution_count": 60,
      "outputs": [
        {
          "output_type": "stream",
          "name": "stdout",
          "text": [
            "1563/1563 [==============================] - 7s 5ms/step - loss: 0.7128 - accuracy: 0.8149\n",
            "[0.7127788662910461, 0.8148888945579529]\n"
          ]
        }
      ]
    },
    {
      "cell_type": "markdown",
      "source": [
        "# MultiChannel_CNN"
      ],
      "metadata": {
        "id": "p9VnFy8MZsQl"
      }
    },
    {
      "cell_type": "code",
      "source": [
        "from keras.layers.merge import Concatenate\n",
        "from keras.layers import Convolution2D, MaxPooling2D, Reshape\n",
        "\n",
        "embed1 = Sequential()\n",
        "embed1.add(Embedding(vocab_size,\n",
        "                     word_vector_dim,\n",
        "                     weights=[embedding_matrix],\n",
        "                     input_length=MAX_SEQUENCE_LENGTH,\n",
        "                     trainable=False))\n",
        "embed2 = Sequential()\n",
        "embed2.add(Embedding(vocab_size,\n",
        "                     word_vector_dim,\n",
        "                     weights=[embedding_matrix],\n",
        "                     input_length=MAX_SEQUENCE_LENGTH,\n",
        "                     trainable=True))\n",
        "\n",
        "# layer_merge = Concatenate()( [layer1, layer2] )\n",
        "model = Sequential()\n",
        "model.add(Concatenate([embed1, embed2]))\n",
        "model.add(Reshape((2, MAX_SEQUENCE_LENGTH, word_vector_dim)))\n",
        "model.add(Convolution2D(64, 5, word_vector_dim, activation=\"relu\"))\n",
        "model.add(MaxPooling2D((MAX_SEQUENCE_LENGTH-5+1,1)))\n",
        "model.add(Flatten())\n",
        "model.add(Dense(256, activation=\"relu\"))\n",
        "model.add(Dropout(0.3))\n",
        "model.add(Dense(1, activation=\"sigmoid\"))\n",
        "\n",
        "model.compile(loss='binary_crossentropy',\n",
        "                optimizer='adam',\n",
        "                metrics=['accuracy'])"
      ],
      "metadata": {
        "id": "LoBxm6f5Zr0k"
      },
      "execution_count": null,
      "outputs": []
    }
  ]
}